{
 "metadata": {
  "name": "",
  "signature": "sha256:7f5c56f1f51577aeb75ccbac4bcdf72e3aed02813a8b1994aaacda9ff1c35aa0"
 },
 "nbformat": 3,
 "nbformat_minor": 0,
 "worksheets": [
  {
   "cells": [
    {
     "cell_type": "code",
     "collapsed": false,
     "input": [
      "from sklearn import svm\n",
      "from sklearn.ensemble import RandomForestClassifier\n",
      "import numpy as np\n",
      "from datasets import taxonomy_example\n",
      "from utils import divide\n",
      "from sklearn.ensemble import GradientBoostingClassifier\n"
     ],
     "language": "python",
     "metadata": {},
     "outputs": [],
     "prompt_number": 96
    },
    {
     "cell_type": "code",
     "collapsed": false,
     "input": [
      "x, y = taxonomy_example(\"BUTTERFLIES\")\n",
      "y = y.ravel()\n",
      "(train_x, train_y), (test_x, test_y) = divide(x, y, [0.75, 0.25])"
     ],
     "language": "python",
     "metadata": {},
     "outputs": [],
     "prompt_number": 49
    },
    {
     "cell_type": "code",
     "collapsed": false,
     "input": [
      "# rf\n",
      "model = RandomForestClassifier(n_estimators=10)\n",
      "# svm\n",
      "model = svm.SVC(kernel='linear')\n",
      "#gbr\n",
      "model = GradientBoostingClassifier(n_estimators=50, learning_rate=0.1,max_depth=10, random_state=0, loss='deviance')"
     ],
     "language": "python",
     "metadata": {},
     "outputs": [],
     "prompt_number": 106
    },
    {
     "cell_type": "code",
     "collapsed": false,
     "input": [
      "model.fit(train_x, train_y)"
     ],
     "language": "python",
     "metadata": {},
     "outputs": [
      {
       "metadata": {},
       "output_type": "pyout",
       "prompt_number": 107,
       "text": [
        "GradientBoostingClassifier(init=None, learning_rate=0.1, loss='deviance',\n",
        "              max_depth=10, max_features=None, max_leaf_nodes=None,\n",
        "              min_samples_leaf=1, min_samples_split=2, n_estimators=50,\n",
        "              random_state=0, subsample=1.0, verbose=0, warm_start=False)"
       ]
      }
     ],
     "prompt_number": 107
    },
    {
     "cell_type": "code",
     "collapsed": false,
     "input": [
      "print \"Accuracy of train : %f\" % (float(np.sum(model.predict(train_x)==train_y))/len(train_x),)\n",
      "print \"Accuracy of test : %f\" % (float(np.sum(model.predict(test_x)==test_y))/len(test_x),)\n"
     ],
     "language": "python",
     "metadata": {},
     "outputs": [
      {
       "output_type": "stream",
       "stream": "stdout",
       "text": [
        "Accuracy of train : 1.000000\n",
        "Accuracy of test : 0.000000\n"
       ]
      }
     ],
     "prompt_number": 108
    },
    {
     "cell_type": "code",
     "collapsed": false,
     "input": [],
     "language": "python",
     "metadata": {},
     "outputs": [],
     "prompt_number": 61
    },
    {
     "cell_type": "code",
     "collapsed": false,
     "input": [],
     "language": "python",
     "metadata": {},
     "outputs": []
    }
   ],
   "metadata": {}
  }
 ]
}