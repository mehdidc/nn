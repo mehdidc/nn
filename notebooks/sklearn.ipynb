{
 "metadata": {
  "name": "",
  "signature": "sha256:959cd122a5e8d4af1935fde26aae49dc14d669beb4a0c1c9317981a0829c15cf"
 },
 "nbformat": 3,
 "nbformat_minor": 0,
 "worksheets": [
  {
   "cells": [
    {
     "cell_type": "code",
     "collapsed": false,
     "input": [
      "from sklearn import svm\n",
      "from sklearn.ensemble import RandomForestClassifier\n",
      "import numpy as np\n",
      "from datasets import taxonomy_example\n",
      "from utils import divide\n",
      "from sklearn.ensemble import GradientBoostingClassifier\n"
     ],
     "language": "python",
     "metadata": {},
     "outputs": [],
     "prompt_number": 96
    },
    {
     "cell_type": "code",
     "collapsed": false,
     "input": [
      "x, y = taxonomy_example(\"BUTTERFLIES\")\n",
      "y = y.ravel()\n",
      "(train_x, train_y), (test_x, test_y) = divide(x, y, [0.9, 0.1])"
     ],
     "language": "python",
     "metadata": {},
     "outputs": [],
     "prompt_number": 117
    },
    {
     "cell_type": "code",
     "collapsed": false,
     "input": [
      "# rf\n",
      "#model = RandomForestClassifier(n_estimators=10)\n",
      "# svm\n",
      "model = svm.SVC(kernel='linear')\n",
      "#gbr\n",
      "#model = GradientBoostingClassifier(n_estimators=5, learning_rate=0.1,max_depth=10, random_state=0, loss='deviance')"
     ],
     "language": "python",
     "metadata": {},
     "outputs": [],
     "prompt_number": 125
    },
    {
     "cell_type": "code",
     "collapsed": false,
     "input": [
      "model.fit(train_x, train_y)"
     ],
     "language": "python",
     "metadata": {},
     "outputs": []
    },
    {
     "cell_type": "code",
     "collapsed": false,
     "input": [
      "print \"Accuracy of train : %f\" % (float(np.sum(model.predict(train_x)==train_y))/len(train_x),)\n",
      "print \"Accuracy of test : %f\" % (float(np.sum(model.predict(test_x)==test_y))/len(test_x),)\n"
     ],
     "language": "python",
     "metadata": {},
     "outputs": []
    },
    {
     "cell_type": "code",
     "collapsed": false,
     "input": [],
     "language": "python",
     "metadata": {},
     "outputs": [],
     "prompt_number": 61
    },
    {
     "cell_type": "code",
     "collapsed": false,
     "input": [],
     "language": "python",
     "metadata": {},
     "outputs": []
    }
   ],
   "metadata": {}
  }
 ]
}